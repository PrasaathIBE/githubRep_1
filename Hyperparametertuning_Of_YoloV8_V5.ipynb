{
  "nbformat": 4,
  "nbformat_minor": 0,
  "metadata": {
    "colab": {
      "provenance": [],
      "machine_shape": "hm",
      "gpuType": "A100"
    },
    "kernelspec": {
      "name": "python3",
      "display_name": "Python 3"
    },
    "language_info": {
      "name": "python"
    },
    "accelerator": "GPU"
  },
  "cells": [
    {
      "cell_type": "code",
      "execution_count": 1,
      "metadata": {
        "colab": {
          "base_uri": "https://localhost:8080/"
        },
        "id": "Og88Lr5f-w1O",
        "outputId": "1b26cb76-ddf8-4610-dc9a-d5f92618fb86"
      },
      "outputs": [
        {
          "output_type": "stream",
          "name": "stdout",
          "text": [
            "Drive already mounted at /content/drive; to attempt to forcibly remount, call drive.mount(\"/content/drive\", force_remount=True).\n"
          ]
        }
      ],
      "source": [
        "from google.colab import drive\n",
        "drive.mount('/content/drive')\n",
        "import os\n",
        "from IPython.display import display, Image, clear_output"
      ]
    },
    {
      "cell_type": "code",
      "source": [
        "# Setup the working directory and clean output\n",
        "HOME = os.getcwd()\n",
        "clear_output()\n",
        "print(\"Current working directory:\", HOME)"
      ],
      "metadata": {
        "colab": {
          "base_uri": "https://localhost:8080/"
        },
        "id": "1QpK0ltx-7YK",
        "outputId": "1ba59e3c-5b31-41b9-f463-5235f383a25b"
      },
      "execution_count": 2,
      "outputs": [
        {
          "output_type": "stream",
          "name": "stdout",
          "text": [
            "Current working directory: /content\n"
          ]
        }
      ]
    },
    {
      "cell_type": "code",
      "source": [
        "# Install required libraries\n",
        "!pip install ultralytics==8.0.196\n",
        "!pip install roboflow"
      ],
      "metadata": {
        "colab": {
          "base_uri": "https://localhost:8080/"
        },
        "id": "ICLWA_bD-895",
        "outputId": "f2991073-ad65-46b6-b0f6-8c9c7c56a0ea"
      },
      "execution_count": 3,
      "outputs": [
        {
          "output_type": "stream",
          "name": "stdout",
          "text": [
            "Requirement already satisfied: ultralytics==8.0.196 in /usr/local/lib/python3.10/dist-packages (8.0.196)\n",
            "Requirement already satisfied: matplotlib>=3.3.0 in /usr/local/lib/python3.10/dist-packages (from ultralytics==8.0.196) (3.7.1)\n",
            "Requirement already satisfied: numpy>=1.22.2 in /usr/local/lib/python3.10/dist-packages (from ultralytics==8.0.196) (1.25.2)\n",
            "Requirement already satisfied: opencv-python>=4.6.0 in /usr/local/lib/python3.10/dist-packages (from ultralytics==8.0.196) (4.8.0.76)\n",
            "Requirement already satisfied: pillow>=7.1.2 in /usr/local/lib/python3.10/dist-packages (from ultralytics==8.0.196) (9.4.0)\n",
            "Requirement already satisfied: pyyaml>=5.3.1 in /usr/local/lib/python3.10/dist-packages (from ultralytics==8.0.196) (6.0.1)\n",
            "Requirement already satisfied: requests>=2.23.0 in /usr/local/lib/python3.10/dist-packages (from ultralytics==8.0.196) (2.31.0)\n",
            "Requirement already satisfied: scipy>=1.4.1 in /usr/local/lib/python3.10/dist-packages (from ultralytics==8.0.196) (1.11.4)\n",
            "Requirement already satisfied: torch>=1.8.0 in /usr/local/lib/python3.10/dist-packages (from ultralytics==8.0.196) (2.3.0+cu121)\n",
            "Requirement already satisfied: torchvision>=0.9.0 in /usr/local/lib/python3.10/dist-packages (from ultralytics==8.0.196) (0.18.0+cu121)\n",
            "Requirement already satisfied: tqdm>=4.64.0 in /usr/local/lib/python3.10/dist-packages (from ultralytics==8.0.196) (4.66.4)\n",
            "Requirement already satisfied: pandas>=1.1.4 in /usr/local/lib/python3.10/dist-packages (from ultralytics==8.0.196) (2.0.3)\n",
            "Requirement already satisfied: seaborn>=0.11.0 in /usr/local/lib/python3.10/dist-packages (from ultralytics==8.0.196) (0.13.1)\n",
            "Requirement already satisfied: psutil in /usr/local/lib/python3.10/dist-packages (from ultralytics==8.0.196) (5.9.5)\n",
            "Requirement already satisfied: py-cpuinfo in /usr/local/lib/python3.10/dist-packages (from ultralytics==8.0.196) (9.0.0)\n",
            "Requirement already satisfied: thop>=0.1.1 in /usr/local/lib/python3.10/dist-packages (from ultralytics==8.0.196) (0.1.1.post2209072238)\n",
            "Requirement already satisfied: contourpy>=1.0.1 in /usr/local/lib/python3.10/dist-packages (from matplotlib>=3.3.0->ultralytics==8.0.196) (1.2.1)\n",
            "Requirement already satisfied: cycler>=0.10 in /usr/local/lib/python3.10/dist-packages (from matplotlib>=3.3.0->ultralytics==8.0.196) (0.10.0)\n",
            "Requirement already satisfied: fonttools>=4.22.0 in /usr/local/lib/python3.10/dist-packages (from matplotlib>=3.3.0->ultralytics==8.0.196) (4.53.0)\n",
            "Requirement already satisfied: kiwisolver>=1.0.1 in /usr/local/lib/python3.10/dist-packages (from matplotlib>=3.3.0->ultralytics==8.0.196) (1.4.5)\n",
            "Requirement already satisfied: packaging>=20.0 in /usr/local/lib/python3.10/dist-packages (from matplotlib>=3.3.0->ultralytics==8.0.196) (24.1)\n",
            "Requirement already satisfied: pyparsing>=2.3.1 in /usr/local/lib/python3.10/dist-packages (from matplotlib>=3.3.0->ultralytics==8.0.196) (3.1.2)\n",
            "Requirement already satisfied: python-dateutil>=2.7 in /usr/local/lib/python3.10/dist-packages (from matplotlib>=3.3.0->ultralytics==8.0.196) (2.8.2)\n",
            "Requirement already satisfied: pytz>=2020.1 in /usr/local/lib/python3.10/dist-packages (from pandas>=1.1.4->ultralytics==8.0.196) (2023.4)\n",
            "Requirement already satisfied: tzdata>=2022.1 in /usr/local/lib/python3.10/dist-packages (from pandas>=1.1.4->ultralytics==8.0.196) (2024.1)\n",
            "Requirement already satisfied: charset-normalizer<4,>=2 in /usr/local/lib/python3.10/dist-packages (from requests>=2.23.0->ultralytics==8.0.196) (3.3.2)\n",
            "Requirement already satisfied: idna<4,>=2.5 in /usr/local/lib/python3.10/dist-packages (from requests>=2.23.0->ultralytics==8.0.196) (2.10)\n",
            "Requirement already satisfied: urllib3<3,>=1.21.1 in /usr/local/lib/python3.10/dist-packages (from requests>=2.23.0->ultralytics==8.0.196) (2.0.7)\n",
            "Requirement already satisfied: certifi>=2017.4.17 in /usr/local/lib/python3.10/dist-packages (from requests>=2.23.0->ultralytics==8.0.196) (2023.7.22)\n",
            "Requirement already satisfied: filelock in /usr/local/lib/python3.10/dist-packages (from torch>=1.8.0->ultralytics==8.0.196) (3.14.0)\n",
            "Requirement already satisfied: typing-extensions>=4.8.0 in /usr/local/lib/python3.10/dist-packages (from torch>=1.8.0->ultralytics==8.0.196) (4.12.2)\n",
            "Requirement already satisfied: sympy in /usr/local/lib/python3.10/dist-packages (from torch>=1.8.0->ultralytics==8.0.196) (1.12.1)\n",
            "Requirement already satisfied: networkx in /usr/local/lib/python3.10/dist-packages (from torch>=1.8.0->ultralytics==8.0.196) (3.3)\n",
            "Requirement already satisfied: jinja2 in /usr/local/lib/python3.10/dist-packages (from torch>=1.8.0->ultralytics==8.0.196) (3.1.4)\n",
            "Requirement already satisfied: fsspec in /usr/local/lib/python3.10/dist-packages (from torch>=1.8.0->ultralytics==8.0.196) (2023.6.0)\n",
            "Requirement already satisfied: nvidia-cuda-nvrtc-cu12==12.1.105 in /usr/local/lib/python3.10/dist-packages (from torch>=1.8.0->ultralytics==8.0.196) (12.1.105)\n",
            "Requirement already satisfied: nvidia-cuda-runtime-cu12==12.1.105 in /usr/local/lib/python3.10/dist-packages (from torch>=1.8.0->ultralytics==8.0.196) (12.1.105)\n",
            "Requirement already satisfied: nvidia-cuda-cupti-cu12==12.1.105 in /usr/local/lib/python3.10/dist-packages (from torch>=1.8.0->ultralytics==8.0.196) (12.1.105)\n",
            "Requirement already satisfied: nvidia-cudnn-cu12==8.9.2.26 in /usr/local/lib/python3.10/dist-packages (from torch>=1.8.0->ultralytics==8.0.196) (8.9.2.26)\n",
            "Requirement already satisfied: nvidia-cublas-cu12==12.1.3.1 in /usr/local/lib/python3.10/dist-packages (from torch>=1.8.0->ultralytics==8.0.196) (12.1.3.1)\n",
            "Requirement already satisfied: nvidia-cufft-cu12==11.0.2.54 in /usr/local/lib/python3.10/dist-packages (from torch>=1.8.0->ultralytics==8.0.196) (11.0.2.54)\n",
            "Requirement already satisfied: nvidia-curand-cu12==10.3.2.106 in /usr/local/lib/python3.10/dist-packages (from torch>=1.8.0->ultralytics==8.0.196) (10.3.2.106)\n",
            "Requirement already satisfied: nvidia-cusolver-cu12==11.4.5.107 in /usr/local/lib/python3.10/dist-packages (from torch>=1.8.0->ultralytics==8.0.196) (11.4.5.107)\n",
            "Requirement already satisfied: nvidia-cusparse-cu12==12.1.0.106 in /usr/local/lib/python3.10/dist-packages (from torch>=1.8.0->ultralytics==8.0.196) (12.1.0.106)\n",
            "Requirement already satisfied: nvidia-nccl-cu12==2.20.5 in /usr/local/lib/python3.10/dist-packages (from torch>=1.8.0->ultralytics==8.0.196) (2.20.5)\n",
            "Requirement already satisfied: nvidia-nvtx-cu12==12.1.105 in /usr/local/lib/python3.10/dist-packages (from torch>=1.8.0->ultralytics==8.0.196) (12.1.105)\n",
            "Requirement already satisfied: triton==2.3.0 in /usr/local/lib/python3.10/dist-packages (from torch>=1.8.0->ultralytics==8.0.196) (2.3.0)\n",
            "Requirement already satisfied: nvidia-nvjitlink-cu12 in /usr/local/lib/python3.10/dist-packages (from nvidia-cusolver-cu12==11.4.5.107->torch>=1.8.0->ultralytics==8.0.196) (12.5.40)\n",
            "Requirement already satisfied: six in /usr/local/lib/python3.10/dist-packages (from cycler>=0.10->matplotlib>=3.3.0->ultralytics==8.0.196) (1.16.0)\n",
            "Requirement already satisfied: MarkupSafe>=2.0 in /usr/local/lib/python3.10/dist-packages (from jinja2->torch>=1.8.0->ultralytics==8.0.196) (2.1.5)\n",
            "Requirement already satisfied: mpmath<1.4.0,>=1.1.0 in /usr/local/lib/python3.10/dist-packages (from sympy->torch>=1.8.0->ultralytics==8.0.196) (1.3.0)\n",
            "Requirement already satisfied: roboflow in /usr/local/lib/python3.10/dist-packages (1.1.32)\n",
            "Requirement already satisfied: certifi==2023.7.22 in /usr/local/lib/python3.10/dist-packages (from roboflow) (2023.7.22)\n",
            "Requirement already satisfied: chardet==4.0.0 in /usr/local/lib/python3.10/dist-packages (from roboflow) (4.0.0)\n",
            "Requirement already satisfied: cycler==0.10.0 in /usr/local/lib/python3.10/dist-packages (from roboflow) (0.10.0)\n",
            "Requirement already satisfied: idna==2.10 in /usr/local/lib/python3.10/dist-packages (from roboflow) (2.10)\n",
            "Requirement already satisfied: kiwisolver>=1.3.1 in /usr/local/lib/python3.10/dist-packages (from roboflow) (1.4.5)\n",
            "Requirement already satisfied: matplotlib in /usr/local/lib/python3.10/dist-packages (from roboflow) (3.7.1)\n",
            "Requirement already satisfied: numpy>=1.18.5 in /usr/local/lib/python3.10/dist-packages (from roboflow) (1.25.2)\n",
            "Requirement already satisfied: opencv-python-headless==4.8.0.74 in /usr/local/lib/python3.10/dist-packages (from roboflow) (4.8.0.74)\n",
            "Requirement already satisfied: Pillow>=7.1.2 in /usr/local/lib/python3.10/dist-packages (from roboflow) (9.4.0)\n",
            "Requirement already satisfied: python-dateutil in /usr/local/lib/python3.10/dist-packages (from roboflow) (2.8.2)\n",
            "Requirement already satisfied: python-dotenv in /usr/local/lib/python3.10/dist-packages (from roboflow) (1.0.1)\n",
            "Requirement already satisfied: requests in /usr/local/lib/python3.10/dist-packages (from roboflow) (2.31.0)\n",
            "Requirement already satisfied: six in /usr/local/lib/python3.10/dist-packages (from roboflow) (1.16.0)\n",
            "Requirement already satisfied: urllib3>=1.26.6 in /usr/local/lib/python3.10/dist-packages (from roboflow) (2.0.7)\n",
            "Requirement already satisfied: tqdm>=4.41.0 in /usr/local/lib/python3.10/dist-packages (from roboflow) (4.66.4)\n",
            "Requirement already satisfied: PyYAML>=5.3.1 in /usr/local/lib/python3.10/dist-packages (from roboflow) (6.0.1)\n",
            "Requirement already satisfied: requests-toolbelt in /usr/local/lib/python3.10/dist-packages (from roboflow) (1.0.0)\n",
            "Requirement already satisfied: python-magic in /usr/local/lib/python3.10/dist-packages (from roboflow) (0.4.27)\n",
            "Requirement already satisfied: contourpy>=1.0.1 in /usr/local/lib/python3.10/dist-packages (from matplotlib->roboflow) (1.2.1)\n",
            "Requirement already satisfied: fonttools>=4.22.0 in /usr/local/lib/python3.10/dist-packages (from matplotlib->roboflow) (4.53.0)\n",
            "Requirement already satisfied: packaging>=20.0 in /usr/local/lib/python3.10/dist-packages (from matplotlib->roboflow) (24.1)\n",
            "Requirement already satisfied: pyparsing>=2.3.1 in /usr/local/lib/python3.10/dist-packages (from matplotlib->roboflow) (3.1.2)\n",
            "Requirement already satisfied: charset-normalizer<4,>=2 in /usr/local/lib/python3.10/dist-packages (from requests->roboflow) (3.3.2)\n"
          ]
        }
      ]
    },
    {
      "cell_type": "code",
      "source": [
        "# Check ultralytics setup and create a dataset directory\n",
        "import ultralytics\n",
        "ultralytics.checks()\n",
        "!mkdir {HOME}/datasets"
      ],
      "metadata": {
        "colab": {
          "base_uri": "https://localhost:8080/"
        },
        "id": "nWgWpHyP_DJR",
        "outputId": "fe764890-5940-400b-ce1e-635943e05093"
      },
      "execution_count": 4,
      "outputs": [
        {
          "output_type": "stream",
          "name": "stderr",
          "text": [
            "Ultralytics YOLOv8.0.196 🚀 Python-3.10.12 torch-2.3.0+cu121 CUDA:0 (NVIDIA A100-SXM4-40GB, 40514MiB)\n",
            "Setup complete ✅ (12 CPUs, 83.5 GB RAM, 30.4/201.2 GB disk)\n"
          ]
        }
      ]
    },
    {
      "cell_type": "code",
      "source": [
        "# Change to datasets directory and setup Roboflow\n",
        "%cd {HOME}/datasets\n",
        "from roboflow import Roboflow\n",
        "rf = Roboflow(api_key=\"N1N7Zb4O1y8Rpkdnlyhn\")\n",
        "project = rf.workspace(\"2dod\").project(\"defect-ee4bu\")\n",
        "version = project.version(3)\n",
        "dataset = version.download(\"yolov8\")\n",
        "%cd {HOME}"
      ],
      "metadata": {
        "id": "WqyKz_y2_Ffx",
        "colab": {
          "base_uri": "https://localhost:8080/"
        },
        "outputId": "25136f57-cf8e-491b-fe20-82eda6e8f809"
      },
      "execution_count": 5,
      "outputs": [
        {
          "output_type": "stream",
          "name": "stdout",
          "text": [
            "/content/datasets\n",
            "loading Roboflow workspace...\n",
            "loading Roboflow project...\n"
          ]
        },
        {
          "output_type": "stream",
          "name": "stderr",
          "text": [
            "Downloading Dataset Version Zip in Defect-3 to yolov8:: 100%|██████████| 304184/304184 [00:18<00:00, 16511.59it/s]"
          ]
        },
        {
          "output_type": "stream",
          "name": "stdout",
          "text": [
            "\n"
          ]
        },
        {
          "output_type": "stream",
          "name": "stderr",
          "text": [
            "\n",
            "Extracting Dataset Version Zip to Defect-3 in yolov8:: 100%|██████████| 21246/21246 [00:02<00:00, 7955.60it/s]\n"
          ]
        },
        {
          "output_type": "stream",
          "name": "stdout",
          "text": [
            "/content\n"
          ]
        }
      ]
    },
    {
      "cell_type": "code",
      "source": [
        "# import subprocess\n",
        "# import numpy as np\n",
        "# from sklearn.model_selection import ParameterSampler\n",
        "\n",
        "# # Define hyperparameters\n",
        "# hyperparameters = {\n",
        "#     'lr0': [0.01, 0.001, 0.0001],  # Example learning rates\n",
        "#     'momentum': [0.85, 0.90, 0.95],  # Momentum values\n",
        "#     'weight_decay': [0.0001, 0.0005, 0.001],  # Weight decay values\n",
        "#     'batch_size': [16, 32, 64],  # Example batch sizes\n",
        "#     'imgsz': [640, 1280]  # Example image sizes\n",
        "# }\n",
        "\n",
        "# # Generate combinations of hyperparameters\n",
        "# param_combinations = list(ParameterSampler(hyperparameters, n_iter=10, random_state=0))\n",
        "# best_params = None\n",
        "# best_score = 0\n",
        "\n",
        "# # Path to your dataset\n",
        "# dataset_location = '/content/datasets'\n",
        "\n",
        "# # Iterate over generated combinations\n",
        "# for params in param_combinations:\n",
        "#     command = f\"yolo mode=train model=yolov8m.pt data={dataset_location}/data.yaml epochs=50 batch={params['batch_size']} imgsz={params['imgsz']} lr0={params['lr0']} momentum={params['momentum']} weight_decay={params['weight_decay']} plots=True save=True\"\n",
        "#     # Execute the command\n",
        "#     subprocess.run(command, shell=True)\n",
        "\n",
        "#     # Assume we evaluate the model and get a score (this is a placeholder)\n",
        "#     current_score = np.random.random()  # Placeholder for actual evaluation\n",
        "#     if current_score > best_score:\n",
        "#         best_score = current_score\n",
        "#         best_params = params\n",
        "\n",
        "# print(f\"Best Parameters: {best_params}\")\n",
        "# print(f\"Best Score: {best_score}\")"
      ],
      "metadata": {
        "colab": {
          "base_uri": "https://localhost:8080/"
        },
        "id": "vcSRI3hqifAO",
        "outputId": "0302ca0e-d41c-46b3-c015-3d46edf551f2"
      },
      "execution_count": null,
      "outputs": [
        {
          "output_type": "stream",
          "name": "stdout",
          "text": [
            "Best Parameters: {'weight_decay': 0.001, 'momentum': 0.9, 'lr0': 0.001, 'imgsz': 640, 'batch_size': 64}\n",
            "Best Score: 0.9056695492448219\n"
          ]
        }
      ]
    },
    {
      "cell_type": "code",
      "source": [
        "import subprocess\n",
        "import numpy as np\n",
        "from sklearn.model_selection import ParameterSampler\n",
        "from ultralytics import YOLO\n",
        "\n",
        "# Define hyperparameters\n",
        "hyperparameters = {\n",
        "    'lr0': [0.01, 0.001, 0.0001],  # Example learning rates\n",
        "    'momentum': [0.85, 0.90, 0.95],  # Momentum values\n",
        "    'weight_decay': [0.0001, 0.0005, 0.001],  # Weight decay values\n",
        "    'batch_size': [16, 32, 64],  # Example batch sizes\n",
        "    'imgsz': [640, 1280]  # Example image sizes\n",
        "}\n",
        "\n",
        "# Generate combinations of hyperparameters\n",
        "param_combinations = list(ParameterSampler(hyperparameters, n_iter=10, random_state=0))\n",
        "best_params = None\n",
        "best_score = 0\n"
      ],
      "metadata": {
        "id": "JHsBG9bnF6Kc"
      },
      "execution_count": 7,
      "outputs": []
    },
    {
      "cell_type": "code",
      "source": [
        "# Path to your dataset\n",
        "dataset_location = '/content/datasets/Defect-3'\n",
        "\n",
        "# Iterate over generated combinations\n",
        "for index,params in enumerate(param_combinations):\n",
        "    command = f\"yolo mode=train model=yolov8m.pt data={dataset_location}/data.yaml epochs=50 batch={params['batch_size']} imgsz={params['imgsz']} lr0={params['lr0']} momentum={params['momentum']} weight_decay={params['weight_decay']} plots=True save=True\"\n",
        "    # Execute the command\n",
        "    subprocess.run(command, shell=True)\n",
        "    if index == 0:\n",
        "      model = YOLO(\"/content/runs/detect/train/weights/best.pt\")\n",
        "    else:\n",
        "      model_path = str(f\"/content/runs/detect/train{index}/weights/best.pt\")\n",
        "      model = YOLO(model_path)\n",
        "      print(f\"train{index}\")\n",
        "    metrics = model.val(data='/content/datasets/Defect-3/data.yaml')\n",
        "    mAP = int(metrics.box.map50)\n",
        "    # Assume we evaluate the model and get a score (this is a placeholder)\n",
        "    current_score = mAP  # Placeholder for actual evaluation\n",
        "    if current_score > best_score:\n",
        "        best_score = current_score\n",
        "        best_params = params\n",
        "        print(best_params)\n",
        "\n",
        "print(f\"Best Parameters: {best_params}\")\n",
        "print(f\"Best Score: {best_score}\")"
      ],
      "metadata": {
        "id": "zvdWtyDQIgTd"
      },
      "execution_count": null,
      "outputs": []
    },
    {
      "cell_type": "code",
      "source": [
        "lists = [1, 2, 3, 4, 5, 6, 7]\n",
        "\n",
        "for index, value in enumerate(lists):\n",
        "   if index == 0:\n",
        "    model_path = str(f\"/content/runs/detect/train{index}/weights/best.pt\")\n",
        "    print(model_path)\n",
        "   else:\n",
        "    model_path = str(f\"/content/runs/detect/train{index}/weights/best.pt\")\n",
        "    print(model_path)"
      ],
      "metadata": {
        "colab": {
          "base_uri": "https://localhost:8080/"
        },
        "id": "5Z2TTDkxK6Ub",
        "outputId": "ef42ccb7-184f-41dd-8ba2-c1738bb16da9"
      },
      "execution_count": 1,
      "outputs": [
        {
          "output_type": "stream",
          "name": "stdout",
          "text": [
            "/content/runs/detect/train0/weights/best.pt\n",
            "/content/runs/detect/train1/weights/best.pt\n",
            "/content/runs/detect/train2/weights/best.pt\n",
            "/content/runs/detect/train3/weights/best.pt\n",
            "/content/runs/detect/train4/weights/best.pt\n",
            "/content/runs/detect/train5/weights/best.pt\n",
            "/content/runs/detect/train6/weights/best.pt\n"
          ]
        }
      ]
    },
    {
      "cell_type": "code",
      "source": [],
      "metadata": {
        "id": "zF2B4OEYMZsL"
      },
      "execution_count": null,
      "outputs": []
    }
  ]
}